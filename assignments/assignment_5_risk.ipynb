{
 "cells": [
  {
   "cell_type": "markdown",
   "metadata": {},
   "source": [
    "# Assignment 5 - Risk"
   ]
  },
  {
   "cell_type": "markdown",
   "metadata": {},
   "source": [
    "\n",
    "\n",
    "Task : Write a program (or notebook) called assignment_5_risk (.py or .ipynb)\n",
    "\n",
    "The program should simulates 1000 individual battle rounds in Risk (3 attacker vs 2 defender) and plots the result.\n",
    "\n",
    "One battle round is one shake of the attacker and defender dice.\n",
    "\n",
    "I am being vague about what it plot, I will leave that to you.\n",
    "\n",
    "+ For the last few marks.\n",
    "\n",
    "A more complicated version simulates a full series of rounds for armies of arbitrary sizes, until one side is wiped out, and plots the results.\n",
    "\n",
    "(This is open ended, so it is only for the last few marks)\n",
    "\n",
    "+ Rules of Risk\n",
    "\n",
    "In Risk one army fights another. (using 6 sided dice)\n",
    "\n",
    "In each battle round, the attacker can put forward up to three of their troops (3 dice).\n",
    "\n",
    "The defender can use up to two of their defending troops (2 dice).\n",
    "\n",
    "Each side looses troops depending on the following rules:\n",
    "\n",
    "\n",
    "The two top dice dice are compared (ie the attackers top dice roll with the defenders top dice roll) \n",
    "\n",
    "  If the attackers dice is the same or lower they loose one troop otherwise the defender looses a troop (ie if the attackers dice is higher)\n",
    "\n",
    "The next two highest dice from each side are then compared (ie the attackers second highest to the defenders second highest)\n",
    "\n",
    "   If the attackers dice is the same or lower they loose one troop otherwise the defender looses a troop (ie if the attackers dice is higher)\n",
    "\n",
    "#### by: Rodrigo de Martino Ucedo"
   ]
  },
  {
   "cell_type": "code",
   "execution_count": 102,
   "metadata": {},
   "outputs": [],
   "source": [
    "# Numerical arrays.\n",
    "import numpy as np\n",
    "# Plotting.\n",
    "import matplotlib.pyplot as plt"
   ]
  },
  {
   "cell_type": "code",
   "execution_count": 103,
   "metadata": {},
   "outputs": [
    {
     "name": "stdout",
     "output_type": "stream",
     "text": [
      "Attacker's dice: [2 2 1]\n",
      "Defender's dice: [4 3]\n",
      "\n",
      "Battle result: Attacker Victories = 0, Defender Victories = 2\n",
      "Winner: Defender\n"
     ]
    }
   ],
   "source": [
    "# A single battle round simulation.\n",
    "def simulate_battle():\n",
    "    # Attacker rolls 3 dice.\n",
    "    attacker_dice = np.sort(np.random.randint(1, 7, 3))[::-1]\n",
    "    # Defender rolls 2 dice.\n",
    "    defender_dice = np.sort(np.random.randint(1, 7, 2))[::-1]\n",
    "    \n",
    "    # Print the dice rolls results.\n",
    "    print(f\"Attacker's dice: {attacker_dice}\")\n",
    "    print(f\"Defender's dice: {defender_dice}\")\n",
    "    \n",
    "    # Initialize the victories.\n",
    "    attacker_victory = 0\n",
    "    defender_victory = 0\n",
    "    \n",
    "    # Compare the two top dice, attacker's vs defender's.\n",
    "    if attacker_dice[0] > defender_dice[0]:\n",
    "        attacker_victory += 1  \n",
    "    else:\n",
    "        defender_victory += 1  \n",
    "    \n",
    "    # Compare the next two highest dice, attacker's vs defender's.\n",
    "    if attacker_dice[1] > defender_dice[1]:\n",
    "        attacker_victory += 1  \n",
    "    else:\n",
    "        defender_victory += 1 \n",
    "    \n",
    "    # Determine the winner.\n",
    "    if attacker_victory > defender_victory:\n",
    "        winner = \"Attacker\"\n",
    "    elif attacker_victory < defender_victory:\n",
    "        winner = \"Defender\"\n",
    "    else:\n",
    "        winner = \"Tie\"  # In case both sides win once.\n",
    "    \n",
    "    # Return the losses and the winner.\n",
    "    return attacker_victory, defender_victory, winner, attacker_dice, defender_dice\n",
    "\n",
    "# Simulate one battle round.\n",
    "attacker_vic, defender_vic, winner, attacker_dice, defender_dice = simulate_battle()\n",
    "\n",
    "# Print the final result of the battle.\n",
    "print(f\"\\nBattle result: Attacker Victories = {attacker_vic}, Defender Victories = {defender_vic}\")\n",
    "print(f\"Winner: {winner}\")"
   ]
  }
 ],
 "metadata": {
  "kernelspec": {
   "display_name": "base",
   "language": "python",
   "name": "python3"
  },
  "language_info": {
   "codemirror_mode": {
    "name": "ipython",
    "version": 3
   },
   "file_extension": ".py",
   "mimetype": "text/x-python",
   "name": "python",
   "nbconvert_exporter": "python",
   "pygments_lexer": "ipython3",
   "version": "3.11.5"
  }
 },
 "nbformat": 4,
 "nbformat_minor": 2
}
