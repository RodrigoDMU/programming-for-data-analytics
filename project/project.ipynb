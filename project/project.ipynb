{
 "cells": [
  {
   "cell_type": "markdown",
   "metadata": {},
   "source": [
    "# Higher Diploma in Science in Data Analytics\n",
    "******\n",
    "\n",
    "## Programming for Data Analytics - Project\n",
    "\n",
    "**Author: Rodrigo De Martino Ucedo**\n",
    "\n",
    "This Jupyter Notebook was created as part of the [Programming for Data Analytics Module](https://www.atu.ie/courses/higher-diploma-in-science-data-analytics?_gl=1%2A1bcdos0%2A_ga%2AMTE3OTU2MzQ5LjE2OTY2MDYwMzE.%2A_ga_5R02GBYV8V%2AMTcxNDMzOTE2Ni4xMS4xLjE3MTQzMzkyMDAuMC4wLjA.https://www.atu.ie/courses/higher-diploma-in-science-data-analytics?_gl=1%2A1bcdos0%2A_ga%2AMTE3OTU2MzQ5LjE2OTY2MDYwMzE.%2A_ga_5R02GBYV8V%2AMTcxNDMzOTE2Ni4xMS4xLjE3MTQzMzkyMDAuMC4wLjA.) for the course in the [Higher Diploma in Science in Data Analytics](https://www.atu.ie/courses/higher-diploma-in-science-data-analytics?_gl=1%2A1bcdos0%2A_ga%2AMTE3OTU2MzQ5LjE2OTY2MDYwMzE.%2A_ga_5R02GBYV8V%2AMTcxNDMzOTE2Ni4xMS4xLjE3MTQzMzkyMDAuMC4wLjA.) at [ATU](https://www.atu.ie/). This project is accessing the dataset [Phoenix Park Weather](https://github.com/RodrigoDMU/programming-for-data-analytics/blob/main/project/phoenixpark_weather.csv) to demonstrate the skills developed for analysis, programming and data visualization.\n",
    "\n",
    "******"
   ]
  },
  {
   "cell_type": "markdown",
   "metadata": {},
   "source": [
    "# Phoenix Park Weather\n",
    "\n",
    "******"
   ]
  },
  {
   "cell_type": "markdown",
   "metadata": {},
   "source": [
    "![PhoenixPark](phoenixparkimg.jpeg)"
   ]
  },
  {
   "cell_type": "markdown",
   "metadata": {},
   "source": [
    "The analysis focuses on mean air temperature and precipitation amount recorded in Phoenix Park, Dublin, from 2004 to 2024. These two climate variables—temperature and precipitation—are key factors that affect the conditions for outdoor activities such as walking, sports, and cycling. The data provides insights into how the park's weather patterns over the past two decades might influence people's ability to engage in these activities."
   ]
  },
  {
   "cell_type": "markdown",
   "metadata": {},
   "source": [
    "### Load Data\n",
    "\n",
    "*****"
   ]
  },
  {
   "cell_type": "code",
   "execution_count": 58,
   "metadata": {},
   "outputs": [],
   "source": [
    "# Data frames. [1]\n",
    "import pandas as pd\n",
    "# Plotting. [2]\n",
    "import matplotlib.pyplot as plt"
   ]
  },
  {
   "cell_type": "code",
   "execution_count": 59,
   "metadata": {},
   "outputs": [
    {
     "name": "stdout",
     "output_type": "stream",
     "text": [
      "     year  month  meant maxtp mintp  mnmax  mnmin  rain  gmin wdsp maxgt sun\n",
      "0    2004      1    5.6  13.8  -3.8    8.5    2.7  87.1  -8.9               \n",
      "1    2004      2    5.1  15.1  -4.9    9.1    1.1        -9.6               \n",
      "2    2004      3    6.8  16.9  -5.0   11.0    2.6  41.2  -9.2               \n",
      "3    2004      4    9.1  18.8   0.4   13.2    5.0  34.6  -3.6               \n",
      "4    2004      5   11.4  21.9   1.8   16.2    6.6  40.8  -2.5               \n",
      "..    ...    ...    ...   ...   ...    ...    ...   ...   ...  ...   ...  ..\n",
      "243  2024      7   15.3  23.2   7.9   19.7   11.0  49.9   3.1               \n",
      "244  2024      8   15.8  23.9   6.7   20.7   10.9  36.8   2.2               \n",
      "245  2024      9   12.8  22.6   2.2   17.0    8.5  59.2   0.2               \n",
      "246  2024     10   11.7  18.7   1.2   15.1    8.3  51.1  -0.6               \n",
      "247  2024     11    8.5  19.2  -2.4   11.3    5.6  57.1  -8.1               \n",
      "\n",
      "[248 rows x 12 columns]\n"
     ]
    }
   ],
   "source": [
    "# Load dataset. [3]\n",
    "df = pd.read_csv(\"phoenixpark_weather.csv\", skiprows=19)\n",
    "print (df)"
   ]
  },
  {
   "cell_type": "markdown",
   "metadata": {},
   "source": [
    "### Inspect Data\n",
    "\n",
    "*****"
   ]
  },
  {
   "cell_type": "code",
   "execution_count": 60,
   "metadata": {},
   "outputs": [
    {
     "data": {
      "text/html": [
       "<div>\n",
       "<style scoped>\n",
       "    .dataframe tbody tr th:only-of-type {\n",
       "        vertical-align: middle;\n",
       "    }\n",
       "\n",
       "    .dataframe tbody tr th {\n",
       "        vertical-align: top;\n",
       "    }\n",
       "\n",
       "    .dataframe thead th {\n",
       "        text-align: right;\n",
       "    }\n",
       "</style>\n",
       "<table border=\"1\" class=\"dataframe\">\n",
       "  <thead>\n",
       "    <tr style=\"text-align: right;\">\n",
       "      <th></th>\n",
       "      <th>year</th>\n",
       "      <th>month</th>\n",
       "      <th>meant</th>\n",
       "      <th>maxtp</th>\n",
       "      <th>mintp</th>\n",
       "      <th>mnmax</th>\n",
       "      <th>mnmin</th>\n",
       "      <th>rain</th>\n",
       "      <th>gmin</th>\n",
       "      <th>wdsp</th>\n",
       "      <th>maxgt</th>\n",
       "      <th>sun</th>\n",
       "    </tr>\n",
       "  </thead>\n",
       "  <tbody>\n",
       "    <tr>\n",
       "      <th>0</th>\n",
       "      <td>2004</td>\n",
       "      <td>1</td>\n",
       "      <td>5.6</td>\n",
       "      <td>13.8</td>\n",
       "      <td>-3.8</td>\n",
       "      <td>8.5</td>\n",
       "      <td>2.7</td>\n",
       "      <td>87.1</td>\n",
       "      <td>-8.9</td>\n",
       "      <td></td>\n",
       "      <td></td>\n",
       "      <td></td>\n",
       "    </tr>\n",
       "    <tr>\n",
       "      <th>1</th>\n",
       "      <td>2004</td>\n",
       "      <td>2</td>\n",
       "      <td>5.1</td>\n",
       "      <td>15.1</td>\n",
       "      <td>-4.9</td>\n",
       "      <td>9.1</td>\n",
       "      <td>1.1</td>\n",
       "      <td></td>\n",
       "      <td>-9.6</td>\n",
       "      <td></td>\n",
       "      <td></td>\n",
       "      <td></td>\n",
       "    </tr>\n",
       "    <tr>\n",
       "      <th>2</th>\n",
       "      <td>2004</td>\n",
       "      <td>3</td>\n",
       "      <td>6.8</td>\n",
       "      <td>16.9</td>\n",
       "      <td>-5.0</td>\n",
       "      <td>11.0</td>\n",
       "      <td>2.6</td>\n",
       "      <td>41.2</td>\n",
       "      <td>-9.2</td>\n",
       "      <td></td>\n",
       "      <td></td>\n",
       "      <td></td>\n",
       "    </tr>\n",
       "    <tr>\n",
       "      <th>3</th>\n",
       "      <td>2004</td>\n",
       "      <td>4</td>\n",
       "      <td>9.1</td>\n",
       "      <td>18.8</td>\n",
       "      <td>0.4</td>\n",
       "      <td>13.2</td>\n",
       "      <td>5.0</td>\n",
       "      <td>34.6</td>\n",
       "      <td>-3.6</td>\n",
       "      <td></td>\n",
       "      <td></td>\n",
       "      <td></td>\n",
       "    </tr>\n",
       "    <tr>\n",
       "      <th>4</th>\n",
       "      <td>2004</td>\n",
       "      <td>5</td>\n",
       "      <td>11.4</td>\n",
       "      <td>21.9</td>\n",
       "      <td>1.8</td>\n",
       "      <td>16.2</td>\n",
       "      <td>6.6</td>\n",
       "      <td>40.8</td>\n",
       "      <td>-2.5</td>\n",
       "      <td></td>\n",
       "      <td></td>\n",
       "      <td></td>\n",
       "    </tr>\n",
       "  </tbody>\n",
       "</table>\n",
       "</div>"
      ],
      "text/plain": [
       "   year  month  meant maxtp mintp  mnmax  mnmin  rain  gmin wdsp maxgt sun\n",
       "0  2004      1    5.6  13.8  -3.8    8.5    2.7  87.1  -8.9               \n",
       "1  2004      2    5.1  15.1  -4.9    9.1    1.1        -9.6               \n",
       "2  2004      3    6.8  16.9  -5.0   11.0    2.6  41.2  -9.2               \n",
       "3  2004      4    9.1  18.8   0.4   13.2    5.0  34.6  -3.6               \n",
       "4  2004      5   11.4  21.9   1.8   16.2    6.6  40.8  -2.5               "
      ]
     },
     "execution_count": 60,
     "metadata": {},
     "output_type": "execute_result"
    }
   ],
   "source": [
    "# The first 5 rows of the dataset.\n",
    "df.head()"
   ]
  },
  {
   "cell_type": "code",
   "execution_count": 61,
   "metadata": {},
   "outputs": [
    {
     "data": {
      "text/html": [
       "<div>\n",
       "<style scoped>\n",
       "    .dataframe tbody tr th:only-of-type {\n",
       "        vertical-align: middle;\n",
       "    }\n",
       "\n",
       "    .dataframe tbody tr th {\n",
       "        vertical-align: top;\n",
       "    }\n",
       "\n",
       "    .dataframe thead th {\n",
       "        text-align: right;\n",
       "    }\n",
       "</style>\n",
       "<table border=\"1\" class=\"dataframe\">\n",
       "  <thead>\n",
       "    <tr style=\"text-align: right;\">\n",
       "      <th></th>\n",
       "      <th>year</th>\n",
       "      <th>month</th>\n",
       "      <th>meant</th>\n",
       "      <th>maxtp</th>\n",
       "      <th>mintp</th>\n",
       "      <th>mnmax</th>\n",
       "      <th>mnmin</th>\n",
       "      <th>rain</th>\n",
       "      <th>gmin</th>\n",
       "      <th>wdsp</th>\n",
       "      <th>maxgt</th>\n",
       "      <th>sun</th>\n",
       "    </tr>\n",
       "  </thead>\n",
       "  <tbody>\n",
       "    <tr>\n",
       "      <th>243</th>\n",
       "      <td>2024</td>\n",
       "      <td>7</td>\n",
       "      <td>15.3</td>\n",
       "      <td>23.2</td>\n",
       "      <td>7.9</td>\n",
       "      <td>19.7</td>\n",
       "      <td>11.0</td>\n",
       "      <td>49.9</td>\n",
       "      <td>3.1</td>\n",
       "      <td></td>\n",
       "      <td></td>\n",
       "      <td></td>\n",
       "    </tr>\n",
       "    <tr>\n",
       "      <th>244</th>\n",
       "      <td>2024</td>\n",
       "      <td>8</td>\n",
       "      <td>15.8</td>\n",
       "      <td>23.9</td>\n",
       "      <td>6.7</td>\n",
       "      <td>20.7</td>\n",
       "      <td>10.9</td>\n",
       "      <td>36.8</td>\n",
       "      <td>2.2</td>\n",
       "      <td></td>\n",
       "      <td></td>\n",
       "      <td></td>\n",
       "    </tr>\n",
       "    <tr>\n",
       "      <th>245</th>\n",
       "      <td>2024</td>\n",
       "      <td>9</td>\n",
       "      <td>12.8</td>\n",
       "      <td>22.6</td>\n",
       "      <td>2.2</td>\n",
       "      <td>17.0</td>\n",
       "      <td>8.5</td>\n",
       "      <td>59.2</td>\n",
       "      <td>0.2</td>\n",
       "      <td></td>\n",
       "      <td></td>\n",
       "      <td></td>\n",
       "    </tr>\n",
       "    <tr>\n",
       "      <th>246</th>\n",
       "      <td>2024</td>\n",
       "      <td>10</td>\n",
       "      <td>11.7</td>\n",
       "      <td>18.7</td>\n",
       "      <td>1.2</td>\n",
       "      <td>15.1</td>\n",
       "      <td>8.3</td>\n",
       "      <td>51.1</td>\n",
       "      <td>-0.6</td>\n",
       "      <td></td>\n",
       "      <td></td>\n",
       "      <td></td>\n",
       "    </tr>\n",
       "    <tr>\n",
       "      <th>247</th>\n",
       "      <td>2024</td>\n",
       "      <td>11</td>\n",
       "      <td>8.5</td>\n",
       "      <td>19.2</td>\n",
       "      <td>-2.4</td>\n",
       "      <td>11.3</td>\n",
       "      <td>5.6</td>\n",
       "      <td>57.1</td>\n",
       "      <td>-8.1</td>\n",
       "      <td></td>\n",
       "      <td></td>\n",
       "      <td></td>\n",
       "    </tr>\n",
       "  </tbody>\n",
       "</table>\n",
       "</div>"
      ],
      "text/plain": [
       "     year  month  meant maxtp mintp  mnmax  mnmin  rain  gmin wdsp maxgt sun\n",
       "243  2024      7   15.3  23.2   7.9   19.7   11.0  49.9   3.1               \n",
       "244  2024      8   15.8  23.9   6.7   20.7   10.9  36.8   2.2               \n",
       "245  2024      9   12.8  22.6   2.2   17.0    8.5  59.2   0.2               \n",
       "246  2024     10   11.7  18.7   1.2   15.1    8.3  51.1  -0.6               \n",
       "247  2024     11    8.5  19.2  -2.4   11.3    5.6  57.1  -8.1               "
      ]
     },
     "execution_count": 61,
     "metadata": {},
     "output_type": "execute_result"
    }
   ],
   "source": [
    "# The last 5 rows of the dataset.\n",
    "df.tail()"
   ]
  },
  {
   "cell_type": "code",
   "execution_count": 62,
   "metadata": {},
   "outputs": [
    {
     "name": "stdout",
     "output_type": "stream",
     "text": [
      "<class 'pandas.core.frame.DataFrame'>\n",
      "RangeIndex: 248 entries, 0 to 247\n",
      "Data columns (total 12 columns):\n",
      " #   Column  Non-Null Count  Dtype  \n",
      "---  ------  --------------  -----  \n",
      " 0   year    248 non-null    int64  \n",
      " 1   month   248 non-null    int64  \n",
      " 2   meant   248 non-null    float64\n",
      " 3   maxtp   248 non-null    object \n",
      " 4   mintp   248 non-null    object \n",
      " 5   mnmax   248 non-null    float64\n",
      " 6   mnmin   248 non-null    float64\n",
      " 7   rain    248 non-null    object \n",
      " 8   gmin    248 non-null    object \n",
      " 9   wdsp    248 non-null    object \n",
      " 10  maxgt   248 non-null    object \n",
      " 11  sun     248 non-null    object \n",
      "dtypes: float64(3), int64(2), object(7)\n",
      "memory usage: 23.4+ KB\n"
     ]
    }
   ],
   "source": [
    "# Informations of the dataset.\n",
    "df.info()"
   ]
  },
  {
   "cell_type": "markdown",
   "metadata": {},
   "source": [
    "The dataset contains 248 rows and 12 columns, each representing different weather-related metrics, with some columns being properly formatted as numerical values (integers or floats) and others stored as object types."
   ]
  },
  {
   "cell_type": "code",
   "execution_count": 70,
   "metadata": {},
   "outputs": [],
   "source": [
    "# Convert object columns to numeric.\n",
    "columns_to_convert = ['maxtp', 'mintp', 'rain', 'gmin', 'wdsp', 'maxgt', 'sun'] \n",
    "\n",
    "for col in columns_to_convert:\n",
    "    df[col] = pd.to_numeric(df[col], errors='coerce')"
   ]
  },
  {
   "cell_type": "markdown",
   "metadata": {},
   "source": [
    "The non-numeric values were converted in columns like `maxtp`, `mintp`, `rain`, `gmin`, `wdsp`, `maxgt`, and `sun` into numeric types."
   ]
  },
  {
   "cell_type": "code",
   "execution_count": 64,
   "metadata": {},
   "outputs": [
    {
     "name": "stdout",
     "output_type": "stream",
     "text": [
      "<class 'pandas.core.frame.DataFrame'>\n",
      "RangeIndex: 248 entries, 0 to 247\n",
      "Data columns (total 12 columns):\n",
      " #   Column  Non-Null Count  Dtype  \n",
      "---  ------  --------------  -----  \n",
      " 0   year    248 non-null    int64  \n",
      " 1   month   248 non-null    int64  \n",
      " 2   meant   248 non-null    float64\n",
      " 3   maxtp   247 non-null    float64\n",
      " 4   mintp   247 non-null    float64\n",
      " 5   mnmax   248 non-null    float64\n",
      " 6   mnmin   248 non-null    float64\n",
      " 7   rain    244 non-null    float64\n",
      " 8   gmin    246 non-null    float64\n",
      " 9   wdsp    2 non-null      float64\n",
      " 10  maxgt   23 non-null     float64\n",
      " 11  sun     0 non-null      float64\n",
      "dtypes: float64(10), int64(2)\n",
      "memory usage: 23.4 KB\n"
     ]
    }
   ],
   "source": [
    "# Informations of the dataset.\n",
    "df.info()"
   ]
  },
  {
   "cell_type": "code",
   "execution_count": 65,
   "metadata": {},
   "outputs": [
    {
     "data": {
      "text/plain": [
       "year       0\n",
       "month      0\n",
       "meant      0\n",
       "maxtp      1\n",
       "mintp      1\n",
       "mnmax      0\n",
       "mnmin      0\n",
       "rain       4\n",
       "gmin       2\n",
       "wdsp     246\n",
       "maxgt    225\n",
       "sun      248\n",
       "dtype: int64"
      ]
     },
     "execution_count": 65,
     "metadata": {},
     "output_type": "execute_result"
    }
   ],
   "source": [
    "# Count the number of null.\n",
    "df.isnull().sum()"
   ]
  },
  {
   "cell_type": "markdown",
   "metadata": {},
   "source": [
    "The initial dataset had 4 missing values in the `rain` column and 0 missing values in the `meant` columin."
   ]
  },
  {
   "cell_type": "code",
   "execution_count": 66,
   "metadata": {},
   "outputs": [],
   "source": [
    "# Drop rows with missing windspeed data. [7]\n",
    "df = df.dropna(subset=['rain'])"
   ]
  },
  {
   "cell_type": "code",
   "execution_count": 67,
   "metadata": {},
   "outputs": [
    {
     "data": {
      "text/plain": [
       "0"
      ]
     },
     "execution_count": 67,
     "metadata": {},
     "output_type": "execute_result"
    }
   ],
   "source": [
    "# Count the number of null.\n",
    "df['rain'].isnull().sum()"
   ]
  },
  {
   "cell_type": "markdown",
   "metadata": {},
   "source": [
    "After applying the `dropna()` method to remove rows with missing precipitation data, the `rain` column no longer has any missing values.\n",
    "The count of missing values in the `rain` column is now 0, indicating that the cleaning operation was successful."
   ]
  },
  {
   "cell_type": "code",
   "execution_count": 68,
   "metadata": {},
   "outputs": [
    {
     "data": {
      "text/html": [
       "<div>\n",
       "<style scoped>\n",
       "    .dataframe tbody tr th:only-of-type {\n",
       "        vertical-align: middle;\n",
       "    }\n",
       "\n",
       "    .dataframe tbody tr th {\n",
       "        vertical-align: top;\n",
       "    }\n",
       "\n",
       "    .dataframe thead th {\n",
       "        text-align: right;\n",
       "    }\n",
       "</style>\n",
       "<table border=\"1\" class=\"dataframe\">\n",
       "  <thead>\n",
       "    <tr style=\"text-align: right;\">\n",
       "      <th></th>\n",
       "      <th>year</th>\n",
       "      <th>month</th>\n",
       "      <th>meant</th>\n",
       "      <th>maxtp</th>\n",
       "      <th>mintp</th>\n",
       "      <th>mnmax</th>\n",
       "      <th>mnmin</th>\n",
       "      <th>rain</th>\n",
       "      <th>gmin</th>\n",
       "      <th>wdsp</th>\n",
       "      <th>maxgt</th>\n",
       "      <th>sun</th>\n",
       "    </tr>\n",
       "  </thead>\n",
       "  <tbody>\n",
       "    <tr>\n",
       "      <th>count</th>\n",
       "      <td>244.000000</td>\n",
       "      <td>244.000000</td>\n",
       "      <td>244.000000</td>\n",
       "      <td>244.000000</td>\n",
       "      <td>244.000000</td>\n",
       "      <td>244.000000</td>\n",
       "      <td>244.000000</td>\n",
       "      <td>244.000000</td>\n",
       "      <td>243.000000</td>\n",
       "      <td>2.0</td>\n",
       "      <td>23.000000</td>\n",
       "      <td>0.0</td>\n",
       "    </tr>\n",
       "    <tr>\n",
       "      <th>mean</th>\n",
       "      <td>2014.221311</td>\n",
       "      <td>6.471311</td>\n",
       "      <td>10.200000</td>\n",
       "      <td>19.031148</td>\n",
       "      <td>0.890164</td>\n",
       "      <td>14.068443</td>\n",
       "      <td>6.329508</td>\n",
       "      <td>64.630328</td>\n",
       "      <td>-3.402058</td>\n",
       "      <td>0.1</td>\n",
       "      <td>3.869565</td>\n",
       "      <td>NaN</td>\n",
       "    </tr>\n",
       "    <tr>\n",
       "      <th>std</th>\n",
       "      <td>5.924785</td>\n",
       "      <td>3.471696</td>\n",
       "      <td>3.968124</td>\n",
       "      <td>4.664542</td>\n",
       "      <td>4.206656</td>\n",
       "      <td>4.495332</td>\n",
       "      <td>3.516901</td>\n",
       "      <td>35.665322</td>\n",
       "      <td>4.251052</td>\n",
       "      <td>0.0</td>\n",
       "      <td>2.912424</td>\n",
       "      <td>NaN</td>\n",
       "    </tr>\n",
       "    <tr>\n",
       "      <th>min</th>\n",
       "      <td>2004.000000</td>\n",
       "      <td>1.000000</td>\n",
       "      <td>0.100000</td>\n",
       "      <td>10.400000</td>\n",
       "      <td>-10.800000</td>\n",
       "      <td>3.300000</td>\n",
       "      <td>-3.100000</td>\n",
       "      <td>4.100000</td>\n",
       "      <td>-13.200000</td>\n",
       "      <td>0.1</td>\n",
       "      <td>0.000000</td>\n",
       "      <td>NaN</td>\n",
       "    </tr>\n",
       "    <tr>\n",
       "      <th>25%</th>\n",
       "      <td>2009.000000</td>\n",
       "      <td>3.000000</td>\n",
       "      <td>6.600000</td>\n",
       "      <td>14.800000</td>\n",
       "      <td>-2.400000</td>\n",
       "      <td>9.975000</td>\n",
       "      <td>3.400000</td>\n",
       "      <td>38.525000</td>\n",
       "      <td>-6.800000</td>\n",
       "      <td>0.1</td>\n",
       "      <td>0.500000</td>\n",
       "      <td>NaN</td>\n",
       "    </tr>\n",
       "    <tr>\n",
       "      <th>50%</th>\n",
       "      <td>2014.000000</td>\n",
       "      <td>6.000000</td>\n",
       "      <td>9.750000</td>\n",
       "      <td>18.600000</td>\n",
       "      <td>0.150000</td>\n",
       "      <td>13.650000</td>\n",
       "      <td>5.700000</td>\n",
       "      <td>58.650000</td>\n",
       "      <td>-4.100000</td>\n",
       "      <td>0.1</td>\n",
       "      <td>4.000000</td>\n",
       "      <td>NaN</td>\n",
       "    </tr>\n",
       "    <tr>\n",
       "      <th>75%</th>\n",
       "      <td>2019.000000</td>\n",
       "      <td>9.250000</td>\n",
       "      <td>13.725000</td>\n",
       "      <td>23.225000</td>\n",
       "      <td>4.725000</td>\n",
       "      <td>18.400000</td>\n",
       "      <td>9.500000</td>\n",
       "      <td>83.600000</td>\n",
       "      <td>-0.050000</td>\n",
       "      <td>0.1</td>\n",
       "      <td>6.000000</td>\n",
       "      <td>NaN</td>\n",
       "    </tr>\n",
       "    <tr>\n",
       "      <th>max</th>\n",
       "      <td>2024.000000</td>\n",
       "      <td>12.000000</td>\n",
       "      <td>17.500000</td>\n",
       "      <td>33.000000</td>\n",
       "      <td>9.500000</td>\n",
       "      <td>23.000000</td>\n",
       "      <td>12.700000</td>\n",
       "      <td>193.900000</td>\n",
       "      <td>7.700000</td>\n",
       "      <td>0.1</td>\n",
       "      <td>8.000000</td>\n",
       "      <td>NaN</td>\n",
       "    </tr>\n",
       "  </tbody>\n",
       "</table>\n",
       "</div>"
      ],
      "text/plain": [
       "              year       month       meant       maxtp       mintp  \\\n",
       "count   244.000000  244.000000  244.000000  244.000000  244.000000   \n",
       "mean   2014.221311    6.471311   10.200000   19.031148    0.890164   \n",
       "std       5.924785    3.471696    3.968124    4.664542    4.206656   \n",
       "min    2004.000000    1.000000    0.100000   10.400000  -10.800000   \n",
       "25%    2009.000000    3.000000    6.600000   14.800000   -2.400000   \n",
       "50%    2014.000000    6.000000    9.750000   18.600000    0.150000   \n",
       "75%    2019.000000    9.250000   13.725000   23.225000    4.725000   \n",
       "max    2024.000000   12.000000   17.500000   33.000000    9.500000   \n",
       "\n",
       "            mnmax       mnmin        rain        gmin  wdsp      maxgt  sun  \n",
       "count  244.000000  244.000000  244.000000  243.000000   2.0  23.000000  0.0  \n",
       "mean    14.068443    6.329508   64.630328   -3.402058   0.1   3.869565  NaN  \n",
       "std      4.495332    3.516901   35.665322    4.251052   0.0   2.912424  NaN  \n",
       "min      3.300000   -3.100000    4.100000  -13.200000   0.1   0.000000  NaN  \n",
       "25%      9.975000    3.400000   38.525000   -6.800000   0.1   0.500000  NaN  \n",
       "50%     13.650000    5.700000   58.650000   -4.100000   0.1   4.000000  NaN  \n",
       "75%     18.400000    9.500000   83.600000   -0.050000   0.1   6.000000  NaN  \n",
       "max     23.000000   12.700000  193.900000    7.700000   0.1   8.000000  NaN  "
      ]
     },
     "execution_count": 68,
     "metadata": {},
     "output_type": "execute_result"
    }
   ],
   "source": [
    "# Descibe the dataset.\n",
    "df.describe()"
   ]
  },
  {
   "cell_type": "code",
   "execution_count": 69,
   "metadata": {},
   "outputs": [
    {
     "name": "stdout",
     "output_type": "stream",
     "text": [
      "            meant        rain\n",
      "count  244.000000  244.000000\n",
      "mean    10.200000   64.630328\n",
      "std      3.968124   35.665322\n",
      "min      0.100000    4.100000\n",
      "25%      6.600000   38.525000\n",
      "50%      9.750000   58.650000\n",
      "75%     13.725000   83.600000\n",
      "max     17.500000  193.900000\n"
     ]
    }
   ],
   "source": [
    "# Describe the informations to Mean Air Temperature (°C) and Precipitation Amount (mm).\n",
    "describe = df[['meant', 'rain']].describe()\n",
    "print(describe)"
   ]
  },
  {
   "cell_type": "markdown",
   "metadata": {},
   "source": [
    "Mean Temperature (meant):\n",
    "\n",
    "The average temperature across all records is 10.20°C, with a minimum of 0.10°C (very cold) and a maximum of 17.50°C (very warm).\n",
    "The standard deviation of 3.97°C suggests that there is moderate variation in the temperature.\n",
    "Median of 9.75°C is close to the mean, indicating a relatively balanced distribution of temperatures.\n",
    "\n",
    "Precipitation (rain):\n",
    "\n",
    "The average precipitation is 64.63 mm, with a minimum of 4.10 mm (low rainfall) and a maximum of 193.90 mm (very high rainfall).\n",
    "The standard deviation of 35.67 mm indicates significant variation in monthly precipitation amounts.\n",
    "Median of 58.65 mm is below the mean, suggesting that many months have lower precipitation, but a few months with high rainfall push the average up."
   ]
  },
  {
   "cell_type": "markdown",
   "metadata": {},
   "source": [
    "### Conclusion\n",
    "\n",
    "******"
   ]
  },
  {
   "cell_type": "markdown",
   "metadata": {},
   "source": [
    "In conclusion, the analysis of mean air temperature and precipitation data from 2004 to 2024 highlights the importance of favorable weather conditions in facilitating outdoor activities in Phoenix Park. Mild temperatures and moderate precipitation create optimal conditions for walking, sports, and cycling, contributing to both individual health and the collective well-being of the community. As the climate continues to experience shifts, the park’s weather patterns will remain a key factor in determining the accessibility and enjoyment of outdoor activities. This underscores the significance of maintaining healthy, active lifestyles, which can be significantly enhanced by good weather conditions that promote outdoor engagement.\n",
    "\n",
    "Continued efforts to adapt to climate changes, including creating sheltered areas and promoting activities suited for various weather conditions, will be vital for ensuring that Phoenix Park remains an accessible and enjoyable space for outdoor recreation for years to come."
   ]
  },
  {
   "cell_type": "markdown",
   "metadata": {},
   "source": [
    "### References\n",
    "\n",
    "*****"
   ]
  },
  {
   "cell_type": "markdown",
   "metadata": {},
   "source": [
    "### End\n",
    "\n",
    "******"
   ]
  },
  {
   "cell_type": "markdown",
   "metadata": {},
   "source": [
    "last commit in 11/01/2025"
   ]
  }
 ],
 "metadata": {
  "kernelspec": {
   "display_name": "base",
   "language": "python",
   "name": "python3"
  },
  "language_info": {
   "codemirror_mode": {
    "name": "ipython",
    "version": 3
   },
   "file_extension": ".py",
   "mimetype": "text/x-python",
   "name": "python",
   "nbconvert_exporter": "python",
   "pygments_lexer": "ipython3",
   "version": "3.11.5"
  }
 },
 "nbformat": 4,
 "nbformat_minor": 2
}
